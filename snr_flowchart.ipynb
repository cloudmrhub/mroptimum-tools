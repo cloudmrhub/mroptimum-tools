{
  "nbformat": 4,
  "nbformat_minor": 0,
  "metadata": {
    "colab": {
      "provenance": [],
      "authorship_tag": "ABX9TyOfAFWonb/j6MpBDWndq4pS",
      "include_colab_link": true
    },
    "kernelspec": {
      "name": "python3",
      "display_name": "Python 3"
    },
    "language_info": {
      "name": "python"
    }
  },
  "cells": [
    {
      "cell_type": "markdown",
      "metadata": {
        "id": "view-in-github",
        "colab_type": "text"
      },
      "source": [
        "<a href=\"https://colab.research.google.com/github/cloudmrhub/mroptimum-tools/blob/main/snr_flowchart.ipynb\" target=\"_parent\"><img src=\"https://colab.research.google.com/assets/colab-badge.svg\" alt=\"Open In Colab\"/></a>"
      ]
    },
    {
      "cell_type": "code",
      "source": [
        "pip install graphviz"
      ],
      "metadata": {
        "colab": {
          "base_uri": "https://localhost:8080/"
        },
        "id": "z4NFWuzDvSla",
        "outputId": "0a14f598-efaf-47a1-f29c-0bb17a7d32d6"
      },
      "execution_count": null,
      "outputs": [
        {
          "output_type": "stream",
          "name": "stdout",
          "text": [
            "Requirement already satisfied: graphviz in /usr/local/lib/python3.11/dist-packages (0.20.3)\n"
          ]
        }
      ]
    },
    {
      "cell_type": "code",
      "execution_count": null,
      "metadata": {
        "id": "b_nHMv53vEet"
      },
      "outputs": [],
      "source": [
        "import graphviz\n",
        "\n",
        "def create_snr_flowchart():\n",
        "    dot = graphviz.Digraph(format='png', engine='dot')\n",
        "    dot.attr(rankdir='TB', size='10')\n",
        "\n",
        "    # Start Node\n",
        "    dot.node(\"Start\", \"Start\", shape=\"ellipse\", style=\"filled\", fillcolor=\"lightblue\")\n",
        "    dot.node(\"SelectMethod\", \"Select SNR Estimation Method\", shape=\"diamond\", style=\"filled\", fillcolor=\"lightgrey\")\n",
        "\n",
        "    # Methods\n",
        "    dot.node(\"MREP\", \"MREP: Upload Multiple Replicas\\n+ Optional Noise K-Space\", shape=\"box\", style=\"filled\", fillcolor=\"lightyellow\")\n",
        "    dot.node(\"PMR\", \"PMR: Upload Single Dataset\\n+ Mandatory Noise Scan\", shape=\"box\", style=\"filled\", fillcolor=\"lightyellow\")\n",
        "    dot.node(\"AC\", \"AC: Upload Multi-Coil Dataset\\n+ Mandatory Noise Scan\", shape=\"box\", style=\"filled\", fillcolor=\"lightyellow\")\n",
        "    dot.node(\"GPMR\", \"GPMR: Configure Advanced Reconstruction\\n+ Mandatory Noise Scan\", shape=\"box\", style=\"filled\", fillcolor=\"lightyellow\")\n",
        "\n",
        "    # Optional Flip Angle Map\n",
        "    dot.node(\"FlipAngleMap\", \"Optional Flip Angle Map Correction\", shape=\"parallelogram\", style=\"filled\", fillcolor=\"lightpink\")\n",
        "\n",
        "    # Reconstruction Methods\n",
        "    dot.node(\"Reconstruction\", \"Select Reconstruction Method\", shape=\"diamond\", style=\"filled\", fillcolor=\"lightgrey\")\n",
        "    dot.node(\"RSS\", \"RSS\", shape=\"box\", style=\"filled\", fillcolor=\"lightgreen\")\n",
        "    dot.node(\"B1\", \"B1\", shape=\"box\", style=\"filled\", fillcolor=\"lightgreen\")\n",
        "    dot.node(\"SENSE\", \"SENSE\", shape=\"box\", style=\"filled\", fillcolor=\"lightgreen\")\n",
        "    dot.node(\"GRAPPA\", \"GRAPPA\", shape=\"box\", style=\"filled\", fillcolor=\"lightgreen\")\n",
        "\n",
        "    # Processing\n",
        "    dot.node(\"ProcessData\", \"Process Data in Cloud or Local Python Workflow\", shape=\"box\", style=\"filled\", fillcolor=\"lightcyan\")\n",
        "\n",
        "    # Outputs\n",
        "    dot.node(\"SNRMap\", \"SNR Map\\n+ Noise Covariance Matrix\", shape=\"box\", style=\"filled\", fillcolor=\"lightcoral\")\n",
        "    dot.node(\"CoilSensitivity\", \"Optional: Save Coil Sensitivity Maps (B1, SENSE only)\", shape=\"box\", style=\"filled\", fillcolor=\"lightcoral\")\n",
        "    dot.node(\"GFactor\", \"Optional: G Factor Map (SENSE only)\", shape=\"box\", style=\"filled\", fillcolor=\"lightcoral\")\n",
        "\n",
        "    dot.node(\"End\", \"End\", shape=\"ellipse\", style=\"filled\", fillcolor=\"lightblue\")\n",
        "\n",
        "    # Edges\n",
        "    dot.edge(\"Start\", \"SelectMethod\")\n",
        "    dot.edge(\"SelectMethod\", \"MREP\", label=\"MREP\")\n",
        "    dot.edge(\"SelectMethod\", \"PMR\", label=\"PMR\")\n",
        "    dot.edge(\"SelectMethod\", \"AC\", label=\"AC\")\n",
        "    dot.edge(\"SelectMethod\", \"GPMR\", label=\"GPMR\")\n",
        "\n",
        "    dot.edge(\"MREP\", \"FlipAngleMap\")\n",
        "    dot.edge(\"PMR\", \"FlipAngleMap\")\n",
        "    dot.edge(\"AC\", \"FlipAngleMap\")\n",
        "    dot.edge(\"GPMR\", \"FlipAngleMap\")\n",
        "\n",
        "    dot.edge(\"FlipAngleMap\", \"Reconstruction\")\n",
        "\n",
        "    dot.edge(\"Reconstruction\", \"RSS\")\n",
        "    dot.edge(\"Reconstruction\", \"B1\")\n",
        "    dot.edge(\"Reconstruction\", \"SENSE\")\n",
        "    dot.edge(\"Reconstruction\", \"GRAPPA\")\n",
        "\n",
        "    dot.edge(\"RSS\", \"ProcessData\")\n",
        "    dot.edge(\"B1\", \"ProcessData\")\n",
        "    dot.edge(\"SENSE\", \"ProcessData\")\n",
        "    dot.edge(\"GRAPPA\", \"ProcessData\")\n",
        "\n",
        "    dot.edge(\"ProcessData\", \"SNRMap\")\n",
        "    dot.edge(\"B1\", \"CoilSensitivity\")\n",
        "    dot.edge(\"SENSE\", \"CoilSensitivity\")\n",
        "    dot.edge(\"SENSE\", \"GFactor\")\n",
        "\n",
        "    dot.edge(\"SNRMap\", \"End\")\n",
        "    dot.edge(\"CoilSensitivity\", \"End\")\n",
        "    dot.edge(\"GFactor\", \"End\")\n",
        "\n",
        "    return dot\n",
        "\n",
        "if __name__ == \"__main__\":\n",
        "    flowchart = create_snr_flowchart()\n",
        "    flowchart.render(\"snr_flowchart\", view=True)\n"
      ]
    },
    {
      "cell_type": "code",
      "source": [
        "import graphviz\n",
        "\n",
        "def create_snr_flowchart():\n",
        "    dot = graphviz.Digraph(format='png', engine='dot')\n",
        "    dot.attr(rankdir='TB', size='10')\n",
        "\n",
        "    # Start Node\n",
        "    dot.node(\"Start\", \"Start\", shape=\"ellipse\", style=\"filled\", fillcolor=\"lightblue\")\n",
        "    dot.node(\"SelectMethod\", \"Select SNR Estimation Method\", shape=\"diamond\", style=\"filled\", fillcolor=\"lightgrey\")\n",
        "\n",
        "    # Methods\n",
        "    dot.node(\"MREP\", \"MREP: Upload Multiple Replicas\\n+ Optional Noise K-Space\", shape=\"box\", style=\"filled\", fillcolor=\"lightyellow\")\n",
        "    dot.node(\"PMR\", \"PMR: Upload Single Dataset\\n+ Mandatory Noise Scan\", shape=\"box\", style=\"filled\", fillcolor=\"lightyellow\")\n",
        "    dot.node(\"AC\", \"AC: Upload Multi-Coil Dataset\\n+ Mandatory Noise Scan\", shape=\"box\", style=\"filled\", fillcolor=\"lightyellow\")\n",
        "    dot.node(\"GPMR\", \"GPMR: Configure Advanced Reconstruction\\n+ Mandatory Noise Scan\", shape=\"box\", style=\"filled\", fillcolor=\"lightyellow\")\n",
        "\n",
        "    # Optional Flip Angle Map\n",
        "    dot.node(\"FlipAngleMap\", \"Optional Flip Angle Map Correction\", shape=\"parallelogram\", style=\"filled\", fillcolor=\"lightpink\")\n",
        "\n",
        "    # Reconstruction Methods\n",
        "    dot.node(\"Reconstruction\", \"Select Reconstruction Method\", shape=\"diamond\", style=\"filled\", fillcolor=\"lightgrey\")\n",
        "    dot.node(\"RSS\", \"RSS\", shape=\"box\", style=\"filled\", fillcolor=\"lightgreen\")\n",
        "    dot.node(\"B1\", \"B1\", shape=\"box\", style=\"filled\", fillcolor=\"lightgreen\")\n",
        "    dot.node(\"SENSE\", \"SENSE\", shape=\"box\", style=\"filled\", fillcolor=\"lightgreen\")\n",
        "    dot.node(\"GRAPPA\", \"GRAPPA\", shape=\"box\", style=\"filled\", fillcolor=\"lightgreen\")\n",
        "\n",
        "    # Processing\n",
        "    dot.node(\"ProcessData\", \"Process Data in Cloud or Local Python Workflow\", shape=\"box\", style=\"filled\", fillcolor=\"lightcyan\")\n",
        "\n",
        "    # Outputs\n",
        "    dot.node(\"SNRMap\", \"SNR Map\\n+ Noise Covariance Matrix\", shape=\"box\", style=\"filled\", fillcolor=\"lightcoral\")\n",
        "    dot.node(\"CoilSensitivity\", \"Optional: Save Coil Sensitivity Maps (B1, SENSE only)\", shape=\"box\", style=\"filled\", fillcolor=\"lightcoral\")\n",
        "    dot.node(\"GFactor\", \"Optional: G Factor Map (SENSE only)\", shape=\"box\", style=\"filled\", fillcolor=\"lightcoral\")\n",
        "\n",
        "    dot.node(\"End\", \"End\", shape=\"ellipse\", style=\"filled\", fillcolor=\"lightblue\")\n",
        "\n",
        "    # Edges\n",
        "    dot.edge(\"Start\", \"SelectMethod\")\n",
        "    dot.edge(\"SelectMethod\", \"MREP\", label=\"MREP\")\n",
        "    dot.edge(\"SelectMethod\", \"PMR\", label=\"PMR\")\n",
        "    dot.edge(\"SelectMethod\", \"AC\", label=\"AC\")\n",
        "    dot.edge(\"SelectMethod\", \"GPMR\", label=\"GPMR\")\n",
        "\n",
        "    dot.edge(\"MREP\", \"FlipAngleMap\")\n",
        "    dot.edge(\"PMR\", \"FlipAngleMap\")\n",
        "    dot.edge(\"AC\", \"FlipAngleMap\")\n",
        "    dot.edge(\"GPMR\", \"FlipAngleMap\")\n",
        "\n",
        "    dot.edge(\"FlipAngleMap\", \"Reconstruction\")\n",
        "\n",
        "    dot.edge(\"Reconstruction\", \"RSS\")\n",
        "    dot.edge(\"Reconstruction\", \"B1\")\n",
        "    dot.edge(\"Reconstruction\", \"SENSE\")\n",
        "    dot.edge(\"Reconstruction\", \"GRAPPA\")\n",
        "\n",
        "    dot.edge(\"RSS\", \"ProcessData\")\n",
        "    dot.edge(\"B1\", \"ProcessData\")\n",
        "    dot.edge(\"SENSE\", \"ProcessData\")\n",
        "    dot.edge(\"GRAPPA\", \"ProcessData\")\n",
        "\n",
        "    dot.edge(\"ProcessData\", \"SNRMap\")\n",
        "    dot.edge(\"ProcessData\", \"CoilSensitivity\", label=\"B1, SENSE only\")\n",
        "    dot.edge(\"ProcessData\", \"GFactor\", label=\"SENSE only\")\n",
        "\n",
        "    dot.edge(\"SNRMap\", \"End\")\n",
        "    dot.edge(\"CoilSensitivity\", \"End\")\n",
        "    dot.edge(\"GFactor\", \"End\")\n",
        "\n",
        "    return dot\n",
        "\n",
        "if __name__ == \"__main__\":\n",
        "    flowchart = create_snr_flowchart()\n",
        "    flowchart.render(\"snr_flowchart\", view=True)\n"
      ],
      "metadata": {
        "id": "5YWdwVGu0fER"
      },
      "execution_count": null,
      "outputs": []
    }
  ]
}